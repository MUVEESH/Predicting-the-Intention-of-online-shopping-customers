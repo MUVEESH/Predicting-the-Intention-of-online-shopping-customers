{
 "cells": [
  {
   "cell_type": "markdown",
   "id": "ed32ffeb",
   "metadata": {},
   "source": [
    "# Exploratory Data Analysis"
   ]
  },
  {
   "cell_type": "code",
   "execution_count": 1,
   "id": "3d20dc5b",
   "metadata": {},
   "outputs": [],
   "source": [
    "import pandas as pd\n",
    "import numpy as np\n",
    "import seaborn as sns\n",
    "import matplotlib.pyplot as plt"
   ]
  },
  {
   "cell_type": "code",
   "execution_count": 2,
   "id": "53b9e8f5",
   "metadata": {},
   "outputs": [],
   "source": [
    "df=pd.read_csv(\"K:/online_shoppers_intention.csv\")"
   ]
  },
  {
   "cell_type": "code",
   "execution_count": 3,
   "id": "90f4eb9c",
   "metadata": {},
   "outputs": [
    {
     "data": {
      "text/html": [
       "<div>\n",
       "<style scoped>\n",
       "    .dataframe tbody tr th:only-of-type {\n",
       "        vertical-align: middle;\n",
       "    }\n",
       "\n",
       "    .dataframe tbody tr th {\n",
       "        vertical-align: top;\n",
       "    }\n",
       "\n",
       "    .dataframe thead th {\n",
       "        text-align: right;\n",
       "    }\n",
       "</style>\n",
       "<table border=\"1\" class=\"dataframe\">\n",
       "  <thead>\n",
       "    <tr style=\"text-align: right;\">\n",
       "      <th></th>\n",
       "      <th>Administrative</th>\n",
       "      <th>Administrative_Duration</th>\n",
       "      <th>Informational</th>\n",
       "      <th>Informational_Duration</th>\n",
       "      <th>ProductRelated</th>\n",
       "      <th>ProductRelated_Duration</th>\n",
       "      <th>BounceRates</th>\n",
       "      <th>ExitRates</th>\n",
       "      <th>PageValues</th>\n",
       "      <th>SpecialDay</th>\n",
       "      <th>Month</th>\n",
       "      <th>OperatingSystems</th>\n",
       "      <th>Browser</th>\n",
       "      <th>Region</th>\n",
       "      <th>TrafficType</th>\n",
       "      <th>VisitorType</th>\n",
       "      <th>Weekend</th>\n",
       "      <th>Revenue</th>\n",
       "    </tr>\n",
       "  </thead>\n",
       "  <tbody>\n",
       "    <tr>\n",
       "      <th>0</th>\n",
       "      <td>0</td>\n",
       "      <td>0.0</td>\n",
       "      <td>0</td>\n",
       "      <td>0.0</td>\n",
       "      <td>1</td>\n",
       "      <td>0.000000</td>\n",
       "      <td>0.20</td>\n",
       "      <td>0.20</td>\n",
       "      <td>0.0</td>\n",
       "      <td>0.0</td>\n",
       "      <td>Feb</td>\n",
       "      <td>1</td>\n",
       "      <td>1</td>\n",
       "      <td>1</td>\n",
       "      <td>1</td>\n",
       "      <td>Returning_Visitor</td>\n",
       "      <td>False</td>\n",
       "      <td>False</td>\n",
       "    </tr>\n",
       "    <tr>\n",
       "      <th>1</th>\n",
       "      <td>0</td>\n",
       "      <td>0.0</td>\n",
       "      <td>0</td>\n",
       "      <td>0.0</td>\n",
       "      <td>2</td>\n",
       "      <td>64.000000</td>\n",
       "      <td>0.00</td>\n",
       "      <td>0.10</td>\n",
       "      <td>0.0</td>\n",
       "      <td>0.0</td>\n",
       "      <td>Feb</td>\n",
       "      <td>2</td>\n",
       "      <td>2</td>\n",
       "      <td>1</td>\n",
       "      <td>2</td>\n",
       "      <td>Returning_Visitor</td>\n",
       "      <td>False</td>\n",
       "      <td>False</td>\n",
       "    </tr>\n",
       "    <tr>\n",
       "      <th>2</th>\n",
       "      <td>0</td>\n",
       "      <td>0.0</td>\n",
       "      <td>0</td>\n",
       "      <td>0.0</td>\n",
       "      <td>1</td>\n",
       "      <td>0.000000</td>\n",
       "      <td>0.20</td>\n",
       "      <td>0.20</td>\n",
       "      <td>0.0</td>\n",
       "      <td>0.0</td>\n",
       "      <td>Feb</td>\n",
       "      <td>4</td>\n",
       "      <td>1</td>\n",
       "      <td>9</td>\n",
       "      <td>3</td>\n",
       "      <td>Returning_Visitor</td>\n",
       "      <td>False</td>\n",
       "      <td>False</td>\n",
       "    </tr>\n",
       "    <tr>\n",
       "      <th>3</th>\n",
       "      <td>0</td>\n",
       "      <td>0.0</td>\n",
       "      <td>0</td>\n",
       "      <td>0.0</td>\n",
       "      <td>2</td>\n",
       "      <td>2.666667</td>\n",
       "      <td>0.05</td>\n",
       "      <td>0.14</td>\n",
       "      <td>0.0</td>\n",
       "      <td>0.0</td>\n",
       "      <td>Feb</td>\n",
       "      <td>3</td>\n",
       "      <td>2</td>\n",
       "      <td>2</td>\n",
       "      <td>4</td>\n",
       "      <td>Returning_Visitor</td>\n",
       "      <td>False</td>\n",
       "      <td>False</td>\n",
       "    </tr>\n",
       "    <tr>\n",
       "      <th>4</th>\n",
       "      <td>0</td>\n",
       "      <td>0.0</td>\n",
       "      <td>0</td>\n",
       "      <td>0.0</td>\n",
       "      <td>10</td>\n",
       "      <td>627.500000</td>\n",
       "      <td>0.02</td>\n",
       "      <td>0.05</td>\n",
       "      <td>0.0</td>\n",
       "      <td>0.0</td>\n",
       "      <td>Feb</td>\n",
       "      <td>3</td>\n",
       "      <td>3</td>\n",
       "      <td>1</td>\n",
       "      <td>4</td>\n",
       "      <td>Returning_Visitor</td>\n",
       "      <td>True</td>\n",
       "      <td>False</td>\n",
       "    </tr>\n",
       "  </tbody>\n",
       "</table>\n",
       "</div>"
      ],
      "text/plain": [
       "   Administrative  Administrative_Duration  Informational  \\\n",
       "0               0                      0.0              0   \n",
       "1               0                      0.0              0   \n",
       "2               0                      0.0              0   \n",
       "3               0                      0.0              0   \n",
       "4               0                      0.0              0   \n",
       "\n",
       "   Informational_Duration  ProductRelated  ProductRelated_Duration  \\\n",
       "0                     0.0               1                 0.000000   \n",
       "1                     0.0               2                64.000000   \n",
       "2                     0.0               1                 0.000000   \n",
       "3                     0.0               2                 2.666667   \n",
       "4                     0.0              10               627.500000   \n",
       "\n",
       "   BounceRates  ExitRates  PageValues  SpecialDay Month  OperatingSystems  \\\n",
       "0         0.20       0.20         0.0         0.0   Feb                 1   \n",
       "1         0.00       0.10         0.0         0.0   Feb                 2   \n",
       "2         0.20       0.20         0.0         0.0   Feb                 4   \n",
       "3         0.05       0.14         0.0         0.0   Feb                 3   \n",
       "4         0.02       0.05         0.0         0.0   Feb                 3   \n",
       "\n",
       "   Browser  Region  TrafficType        VisitorType  Weekend  Revenue  \n",
       "0        1       1            1  Returning_Visitor    False    False  \n",
       "1        2       1            2  Returning_Visitor    False    False  \n",
       "2        1       9            3  Returning_Visitor    False    False  \n",
       "3        2       2            4  Returning_Visitor    False    False  \n",
       "4        3       1            4  Returning_Visitor     True    False  "
      ]
     },
     "execution_count": 3,
     "metadata": {},
     "output_type": "execute_result"
    }
   ],
   "source": [
    "df.head()"
   ]
  },
  {
   "cell_type": "markdown",
   "id": "85aa66ee",
   "metadata": {},
   "source": [
    "### 1)what is the average pages visited in different types of page category"
   ]
  },
  {
   "cell_type": "code",
   "execution_count": 4,
   "id": "3db4899d",
   "metadata": {},
   "outputs": [
    {
     "data": {
      "text/html": [
       "<div>\n",
       "<style scoped>\n",
       "    .dataframe tbody tr th:only-of-type {\n",
       "        vertical-align: middle;\n",
       "    }\n",
       "\n",
       "    .dataframe tbody tr th {\n",
       "        vertical-align: top;\n",
       "    }\n",
       "\n",
       "    .dataframe thead th {\n",
       "        text-align: right;\n",
       "    }\n",
       "</style>\n",
       "<table border=\"1\" class=\"dataframe\">\n",
       "  <thead>\n",
       "    <tr style=\"text-align: right;\">\n",
       "      <th></th>\n",
       "      <th>Average_pages_visit</th>\n",
       "    </tr>\n",
       "  </thead>\n",
       "  <tbody>\n",
       "    <tr>\n",
       "      <th>Administrative</th>\n",
       "      <td>2</td>\n",
       "    </tr>\n",
       "    <tr>\n",
       "      <th>Informational</th>\n",
       "      <td>0</td>\n",
       "    </tr>\n",
       "    <tr>\n",
       "      <th>ProductRelated</th>\n",
       "      <td>31</td>\n",
       "    </tr>\n",
       "  </tbody>\n",
       "</table>\n",
       "</div>"
      ],
      "text/plain": [
       "                Average_pages_visit\n",
       "Administrative                    2\n",
       "Informational                     0\n",
       "ProductRelated                   31"
      ]
     },
     "execution_count": 4,
     "metadata": {},
     "output_type": "execute_result"
    }
   ],
   "source": [
    "dict={'Average_pages_visit':[int(df.Administrative.mean()),\n",
    "int(df.Informational.mean()),\n",
    "int(df.ProductRelated.mean())]}\n",
    "df1=pd.DataFrame(dict,index=['Administrative','Informational','ProductRelated'])\n",
    "df1"
   ]
  },
  {
   "cell_type": "markdown",
   "id": "835de539",
   "metadata": {},
   "source": [
    "### 2)what is the maximum duration spent in different page category"
   ]
  },
  {
   "cell_type": "code",
   "execution_count": 5,
   "id": "acea07b0",
   "metadata": {},
   "outputs": [
    {
     "data": {
      "text/html": [
       "<div>\n",
       "<style scoped>\n",
       "    .dataframe tbody tr th:only-of-type {\n",
       "        vertical-align: middle;\n",
       "    }\n",
       "\n",
       "    .dataframe tbody tr th {\n",
       "        vertical-align: top;\n",
       "    }\n",
       "\n",
       "    .dataframe thead th {\n",
       "        text-align: right;\n",
       "    }\n",
       "</style>\n",
       "<table border=\"1\" class=\"dataframe\">\n",
       "  <thead>\n",
       "    <tr style=\"text-align: right;\">\n",
       "      <th></th>\n",
       "      <th>Maximum_duration</th>\n",
       "    </tr>\n",
       "  </thead>\n",
       "  <tbody>\n",
       "    <tr>\n",
       "      <th>Administrative_Duration</th>\n",
       "      <td>3398.75000</td>\n",
       "    </tr>\n",
       "    <tr>\n",
       "      <th>Informational_Duration</th>\n",
       "      <td>2549.37500</td>\n",
       "    </tr>\n",
       "    <tr>\n",
       "      <th>ProductRelated_Duration</th>\n",
       "      <td>63973.52223</td>\n",
       "    </tr>\n",
       "  </tbody>\n",
       "</table>\n",
       "</div>"
      ],
      "text/plain": [
       "                         Maximum_duration\n",
       "Administrative_Duration        3398.75000\n",
       "Informational_Duration         2549.37500\n",
       "ProductRelated_Duration       63973.52223"
      ]
     },
     "execution_count": 5,
     "metadata": {},
     "output_type": "execute_result"
    }
   ],
   "source": [
    "data={'Maximum_duration':[df.Administrative_Duration.max(),\n",
    "df.Informational_Duration.max(),\n",
    "df.ProductRelated_Duration.max()]}\n",
    "maxi=pd.DataFrame(data,index=['Administrative_Duration','Informational_Duration','ProductRelated_Duration',])\n",
    "maxi\n"
   ]
  },
  {
   "cell_type": "markdown",
   "id": "224f8279",
   "metadata": {},
   "source": [
    "### 3)correlation between the pages_duration and Bounce rate?"
   ]
  },
  {
   "cell_type": "code",
   "execution_count": 7,
   "id": "58beaac2",
   "metadata": {},
   "outputs": [
    {
     "data": {
      "text/plain": [
       "<Axes: >"
      ]
     },
     "execution_count": 7,
     "metadata": {},
     "output_type": "execute_result"
    },
    {
     "data": {
      "image/png": "[encoded data removed]",
      "text/plain": [
       "<Figure size 640x480 with 2 Axes>"
      ]
     },
     "metadata": {},
     "output_type": "display_data"
    }
   ],
   "source": [
    "sns.heatmap(data=df.loc[:,['ProductRelated_Duration','Administrative_Duration','Informational_Duration','BounceRates']].corr(),annot=True)"
   ]
  },
  {
   "cell_type": "markdown",
   "id": "109ac1c2",
   "metadata": {},
   "source": [
    "### 4)If the bounce rate is 0 ,what will be the maximum duration spent by the user in productRelated page?"
   ]
  },
  {
   "cell_type": "code",
   "execution_count": 23,
   "id": "2bc57d87",
   "metadata": {},
   "outputs": [
    {
     "name": "stdout",
     "output_type": "stream",
     "text": [
      "Maximum ProductRelated_Duration when Bounce Rate is 0 : 14129.8808\n"
     ]
    }
   ],
   "source": [
    "page=df['ProductRelated_Duration'].where(df['BounceRates']==0)\n",
    "print(f'Maximum ProductRelated_Duration when Bounce Rate is 0 : {page.max()}')"
   ]
  },
  {
   "cell_type": "markdown",
   "id": "43efe08e",
   "metadata": {},
   "source": [
    "### 5)what is the count of Revenue by month?"
   ]
  },
  {
   "cell_type": "code",
   "execution_count": 62,
   "id": "8b962873",
   "metadata": {},
   "outputs": [
    {
     "data": {
      "text/plain": [
       "Revenue  Month\n",
       "False    Aug       357\n",
       "         Dec      1511\n",
       "         Feb       181\n",
       "         Jul       366\n",
       "         June      259\n",
       "         Mar      1715\n",
       "         May      2999\n",
       "         Nov      2238\n",
       "         Oct       434\n",
       "         Sep       362\n",
       "True     Aug        76\n",
       "         Dec       216\n",
       "         Feb         3\n",
       "         Jul        66\n",
       "         June       29\n",
       "         Mar       192\n",
       "         May       365\n",
       "         Nov       760\n",
       "         Oct       115\n",
       "         Sep        86\n",
       "Name: Revenue, dtype: int64"
      ]
     },
     "execution_count": 62,
     "metadata": {},
     "output_type": "execute_result"
    }
   ],
   "source": [
    "Revenue=df.groupby(['Revenue','Month'])['Revenue'].count()\n",
    "Revenue"
   ]
  },
  {
   "cell_type": "markdown",
   "id": "e0733408",
   "metadata": {},
   "source": [
    "### 6)what is the maximum page value?"
   ]
  },
  {
   "cell_type": "code",
   "execution_count": 64,
   "id": "6100cb21",
   "metadata": {},
   "outputs": [
    {
     "name": "stdout",
     "output_type": "stream",
     "text": [
      "The Maximum pagevalue : 361.7637419\n"
     ]
    }
   ],
   "source": [
    "print(f'The Maximum pagevalue : {df.PageValues.max()}')"
   ]
  },
  {
   "cell_type": "markdown",
   "id": "74e45d9d",
   "metadata": {},
   "source": [
    "### 7)If revenue is True ,where page value is high?"
   ]
  },
  {
   "cell_type": "code",
   "execution_count": 66,
   "id": "743f2589",
   "metadata": {},
   "outputs": [
    {
     "data": {
      "text/plain": [
       "9239    True\n",
       "Name: Revenue, dtype: bool"
      ]
     },
     "execution_count": 66,
     "metadata": {},
     "output_type": "execute_result"
    }
   ],
   "source": [
    "df['Revenue'][df['PageValues']==df.PageValues.max()]"
   ]
  },
  {
   "cell_type": "markdown",
   "id": "da7d1fb4",
   "metadata": {},
   "source": [
    "### 8)Most revenue generated on weekends or weekdays?"
   ]
  },
  {
   "cell_type": "code",
   "execution_count": 84,
   "id": "b9a3e5d3",
   "metadata": {},
   "outputs": [
    {
     "name": "stdout",
     "output_type": "stream",
     "text": [
      "people count on Weekdays :10422\n",
      "people count on Weekends :1908\n"
     ]
    }
   ],
   "source": [
    "week=df['Revenue'].apply(lambda x: 'Weekend'if x==True else 'Weekday')\n",
    "w=week[week=='Weekday'].count()\n",
    "we=week[week=='Weekend'].count()\n",
    "print(f'people count on Weekdays :{w}\\npeople count on Weekends :{we}')"
   ]
  },
  {
   "cell_type": "markdown",
   "id": "a58a175c",
   "metadata": {},
   "source": [
    "### 9)Most of the Revenue generating customers from which region?"
   ]
  },
  {
   "cell_type": "code",
   "execution_count": 122,
   "id": "1f99dd50",
   "metadata": {},
   "outputs": [
    {
     "data": {
      "text/html": [
       "<div>\n",
       "<style scoped>\n",
       "    .dataframe tbody tr th:only-of-type {\n",
       "        vertical-align: middle;\n",
       "    }\n",
       "\n",
       "    .dataframe tbody tr th {\n",
       "        vertical-align: top;\n",
       "    }\n",
       "\n",
       "    .dataframe thead th {\n",
       "        text-align: right;\n",
       "    }\n",
       "</style>\n",
       "<table border=\"1\" class=\"dataframe\">\n",
       "  <thead>\n",
       "    <tr style=\"text-align: right;\">\n",
       "      <th>Revenue_count by</th>\n",
       "      <th>Region</th>\n",
       "    </tr>\n",
       "    <tr>\n",
       "      <th>Region</th>\n",
       "      <th></th>\n",
       "    </tr>\n",
       "  </thead>\n",
       "  <tbody>\n",
       "    <tr>\n",
       "      <th>1</th>\n",
       "      <td>771</td>\n",
       "    </tr>\n",
       "    <tr>\n",
       "      <th>3</th>\n",
       "      <td>349</td>\n",
       "    </tr>\n",
       "    <tr>\n",
       "      <th>2</th>\n",
       "      <td>188</td>\n",
       "    </tr>\n",
       "    <tr>\n",
       "      <th>4</th>\n",
       "      <td>175</td>\n",
       "    </tr>\n",
       "    <tr>\n",
       "      <th>7</th>\n",
       "      <td>119</td>\n",
       "    </tr>\n",
       "    <tr>\n",
       "      <th>6</th>\n",
       "      <td>112</td>\n",
       "    </tr>\n",
       "    <tr>\n",
       "      <th>9</th>\n",
       "      <td>86</td>\n",
       "    </tr>\n",
       "    <tr>\n",
       "      <th>8</th>\n",
       "      <td>56</td>\n",
       "    </tr>\n",
       "    <tr>\n",
       "      <th>5</th>\n",
       "      <td>52</td>\n",
       "    </tr>\n",
       "  </tbody>\n",
       "</table>\n",
       "</div>"
      ],
      "text/plain": [
       "Revenue_count by  Region\n",
       "Region                  \n",
       "1                    771\n",
       "3                    349\n",
       "2                    188\n",
       "4                    175\n",
       "7                    119\n",
       "6                    112\n",
       "9                     86\n",
       "8                     56\n",
       "5                     52"
      ]
     },
     "execution_count": 122,
     "metadata": {},
     "output_type": "execute_result"
    }
   ],
   "source": [
    "reg=df[df['Revenue']==True]\n",
    "reg=pd.DataFrame(data=reg.groupby(['Region'])['Region'].count().sort_values(ascending=False))\n",
    "reg.columns.names=['Revenue_count by']\n",
    "reg"
   ]
  },
  {
   "cell_type": "markdown",
   "id": "3ddeb964",
   "metadata": {},
   "source": [
    "### 10)Most of the Revenue generating customers using which os,browser?"
   ]
  },
  {
   "cell_type": "code",
   "execution_count": 151,
   "id": "6cf9400d",
   "metadata": {},
   "outputs": [
    {
     "name": "stdout",
     "output_type": "stream",
     "text": [
      "OperatingSystem :2\n",
      "Browser :2\n"
     ]
    }
   ],
   "source": [
    "rev=df[df['Revenue']==True]\n",
    "o=rev.OperatingSystems.mean()\n",
    "r=rev.Browser.mean()\n",
    "print(f'OperatingSystem :{int(o)}\\nBrowser :{int(r)}')"
   ]
  },
  {
   "cell_type": "markdown",
   "id": "fac686e8",
   "metadata": {},
   "source": [
    "### 11)More revenue generated of which month (using count plot)?\n"
   ]
  },
  {
   "cell_type": "code",
   "execution_count": 157,
   "id": "6a209d39",
   "metadata": {},
   "outputs": [
    {
     "data": {
      "text/plain": [
       "Text(0.5, 1.0, 'The Revenue plot based on month')"
      ]
     },
     "execution_count": 157,
     "metadata": {},
     "output_type": "execute_result"
    },
    {
     "data": {
      "image/png": "[encoded data removed]",
      "text/plain": [
       "<Figure size 640x480 with 1 Axes>"
      ]
     },
     "metadata": {},
     "output_type": "display_data"
    }
   ],
   "source": [
    "rev=df[df['Revenue']==True]\n",
    "plot=rev.loc[:,['Month','Revenue']]\n",
    "sns.countplot(plot,x='Month')\n",
    "plt.title('The Revenue plot based on month')"
   ]
  },
  {
   "cell_type": "markdown",
   "id": "8dac9372",
   "metadata": {},
   "source": [
    "### 12)Most of special days occur on which month"
   ]
  },
  {
   "cell_type": "code",
   "execution_count": 170,
   "id": "5f4ef80a",
   "metadata": {},
   "outputs": [
    {
     "name": "stdout",
     "output_type": "stream",
     "text": [
      "The most Specialdays occur months: ['Feb', 'May']\n"
     ]
    }
   ],
   "source": [
    "mon=df['Month'][df['SpecialDay']==1]\n",
    "mon=list(mon.unique())\n",
    "print(f'The most Specialdays occur months: {mon}')"
   ]
  }
 ],
 "metadata": {
  "kernelspec": {
   "display_name": "Python 3 (ipykernel)",
   "language": "python",
   "name": "python3"
  },
  "language_info": {
   "codemirror_mode": {
    "name": "ipython",
    "version": 3
   },
   "file_extension": ".py",
   "mimetype": "text/x-python",
   "name": "python",
   "nbconvert_exporter": "python",
   "pygments_lexer": "ipython3",
   "version": "3.10.9"
  }
 },
 "nbformat": 4,
 "nbformat_minor": 5
}
